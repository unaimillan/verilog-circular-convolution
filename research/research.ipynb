{
 "cells": [
  {
   "cell_type": "code",
   "execution_count": null,
   "metadata": {},
   "outputs": [],
   "source": [
    "# %pip install numpy scipy pandas plotly nbformat\n"
   ]
  },
  {
   "cell_type": "code",
   "execution_count": null,
   "metadata": {},
   "outputs": [],
   "source": [
    "import numpy as np\n",
    "from numpy.fft import fft, ifft\n",
    "import scipy\n",
    "import scipy.signal\n",
    "import plotly.express as px\n",
    "import plotly.graph_objects as go\n",
    "\n",
    "from circular_convolution import cc_direct, cc_fft\n"
   ]
  },
  {
   "cell_type": "code",
   "execution_count": null,
   "metadata": {},
   "outputs": [],
   "source": [
    "N = 128\n",
    "x = np.linspace(0, 50, N)\n",
    "\n",
    "true_y = np.sin(x)\n",
    "y_range = np.max(true_y) - np.min(true_y)\n",
    "y = true_y + np.random.normal(scale=y_range/10, size=N) + np.sin(x*1.33)\n",
    "\n",
    "fig = px.line(y=y)\n",
    "# fig.add_scatter(y=scipy.signal.savgol_filter(y, 20, 5), name='smooth')\n",
    "fig.show()\n"
   ]
  },
  {
   "cell_type": "code",
   "execution_count": null,
   "metadata": {},
   "outputs": [],
   "source": [
    "kernel = np.concat([np.zeros((N//4, )), np.ones((N//2,)), np.zeros((N//4,))])\n",
    "# kernel = np.random.normal(scale=1, size=N)\n",
    "\n",
    "y_direct = cc_direct(y, kernel)\n",
    "y_fft = cc_fft(y, kernel)\n",
    "fig = go.Figure()\n",
    "fig.add_scatter(y=y_direct)\n",
    "fig.add_scatter(y=y_fft)\n",
    "fig.show()\n",
    "\n",
    "print('Standard deviation:', np.var(y_direct - y_fft))\n"
   ]
  },
  {
   "cell_type": "code",
   "execution_count": null,
   "metadata": {},
   "outputs": [],
   "source": []
  }
 ],
 "metadata": {
  "kernelspec": {
   "display_name": "venv",
   "language": "python",
   "name": "python3"
  },
  "language_info": {
   "codemirror_mode": {
    "name": "ipython",
    "version": 3
   },
   "file_extension": ".py",
   "mimetype": "text/x-python",
   "name": "python",
   "nbconvert_exporter": "python",
   "pygments_lexer": "ipython3",
   "version": "3.13.1"
  }
 },
 "nbformat": 4,
 "nbformat_minor": 2
}
